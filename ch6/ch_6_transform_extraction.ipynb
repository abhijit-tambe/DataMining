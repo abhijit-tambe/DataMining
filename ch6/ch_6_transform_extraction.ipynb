{
 "cells": [
  {
   "cell_type": "code",
   "execution_count": 17,
   "metadata": {},
   "outputs": [],
   "source": [
    "import spacy\n",
    "from sklearn.base import TransformerMixin\n",
    "nlp = spacy.load('en')\n",
    "class BagOfWords(TransformerMixin):\n",
    "    def fit(self, X, y=None):\n",
    "        return self\n",
    "    def transform(self, X):\n",
    "        results = []\n",
    "        for document in X:\n",
    "            row = {}\n",
    "            for word in list(nlp(document)):\n",
    "                if len(word.text.strip()):\n",
    "                    row[word.text] = True\n",
    "            results.append(row)\n",
    "        return results"
   ]
  },
  {
   "cell_type": "code",
   "execution_count": 12,
   "metadata": {
    "collapsed": true
   },
   "outputs": [],
   "source": [
    "from sklearn.feature_extraction import DictVectorizer"
   ]
  },
  {
   "cell_type": "code",
   "execution_count": 3,
   "metadata": {
    "collapsed": true
   },
   "outputs": [],
   "source": [
    "from sklearn.naive_bayes import BernoulliNB"
   ]
  },
  {
   "cell_type": "code",
   "execution_count": 13,
   "metadata": {
    "collapsed": true
   },
   "outputs": [],
   "source": [
    "import os\n",
    "input_filename = os.path.join(os.path.expanduser(\"~\"), \"Datamining/ch6/Data\", \"twitter\", \"python_tweets.json\")\n",
    "labels_filename = os.path.join(os.path.expanduser(\"~\"), \"Datamining/ch6/Data\", \"twitter\", \"python_classes.json\")"
   ]
  },
  {
   "cell_type": "code",
   "execution_count": 18,
   "metadata": {
    "collapsed": true
   },
   "outputs": [],
   "source": [
    "import json\n",
    "tweets = []\n",
    "with open(input_filename) as inf:\n",
    "    for line in inf:\n",
    "        if len(line.strip()) == 0: continue\n",
    "        tweets.append(json.loads(line)['text'])\n",
    "with open(labels_filename) as inf:\n",
    "    labels = json.load(inf)\n",
    "tweets = tweets[:len(labels)]\n",
    "assert len(tweets) == len(labels)"
   ]
  },
  {
   "cell_type": "code",
   "execution_count": 19,
   "metadata": {
    "collapsed": true
   },
   "outputs": [],
   "source": [
    "from sklearn.pipeline import Pipeline\n",
    "pipeline = Pipeline([('bag-of-words', BagOfWords()), ('vectorizer', DictVectorizer()), ('naive-bayes', BernoulliNB()) ])"
   ]
  },
  {
   "cell_type": "code",
   "execution_count": 20,
   "metadata": {},
   "outputs": [
    {
     "name": "stderr",
     "output_type": "stream",
     "text": [
      "E:\\Anaconda3\\lib\\site-packages\\sklearn\\model_selection\\_split.py:1943: FutureWarning: You should specify a value for 'cv' instead of relying on the default value. The default value will change from 3 to 5 in version 0.22.\n",
      "  warnings.warn(CV_WARNING, FutureWarning)\n"
     ]
    },
    {
     "name": "stdout",
     "output_type": "stream",
     "text": [
      "Score: 0.756\n"
     ]
    }
   ],
   "source": [
    "from sklearn.model_selection import cross_val_score\n",
    "scores = cross_val_score(pipeline, tweets, labels, scoring='f1')\n",
    "import numpy as np\n",
    "print(\"Score: {:.3f}\".format(np.mean(scores)))"
   ]
  },
  {
   "cell_type": "code",
   "execution_count": 21,
   "metadata": {
    "collapsed": true
   },
   "outputs": [],
   "source": [
    "model = pipeline.fit(tweets, labels)"
   ]
  },
  {
   "cell_type": "code",
   "execution_count": 22,
   "metadata": {
    "collapsed": true
   },
   "outputs": [],
   "source": [
    "nb = model.named_steps['naive-bayes']\n",
    "feature_probabilities = nb.feature_log_prob_"
   ]
  },
  {
   "cell_type": "code",
   "execution_count": 23,
   "metadata": {
    "collapsed": true
   },
   "outputs": [],
   "source": [
    "top_features = np.argsort(-nb.feature_log_prob_[1])[:50]"
   ]
  },
  {
   "cell_type": "code",
   "execution_count": 24,
   "metadata": {
    "collapsed": true
   },
   "outputs": [],
   "source": [
    "dv = model.named_steps['vectorizer']"
   ]
  },
  {
   "cell_type": "code",
   "execution_count": 25,
   "metadata": {},
   "outputs": [
    {
     "name": "stdout",
     "output_type": "stream",
     "text": [
      "0 … 0.8235294117647056\n",
      "1 : 0.5294117647058824\n",
      "2 RT 0.47058823529411753\n",
      "3 # 0.3529411764705882\n",
      "4 Python 0.3529411764705882\n",
      "5 . 0.3529411764705882\n",
      "6 AI 0.2941176470588235\n",
      "7 in 0.2941176470588235\n",
      "8 IoT 0.2352941176470588\n",
      "9 ; 0.2352941176470588\n",
      "10 the 0.2352941176470588\n",
      "11 BigData 0.2352941176470588\n",
      "12 & 0.2352941176470588\n",
      "13 Analytics 0.2352941176470588\n",
      "14 a 0.2352941176470588\n",
      "15 using 0.2352941176470588\n",
      "16 Data 0.2352941176470588\n",
      "17 and 0.2352941176470588\n",
      "18 , 0.2352941176470588\n",
      "19 of 0.2352941176470588\n",
      "20 @gp_pulipaka 0.2352941176470588\n",
      "21 ( 0.2352941176470588\n",
      "22 Engineer 0.2352941176470588\n",
      "23 DataScience 0.2352941176470588\n",
      "24 MachineLearning 0.2352941176470588\n",
      "25 Best 0.17647058823529413\n",
      "26 for 0.17647058823529413\n",
      "27 https://t.co/PNehSWqM0L 0.17647058823529413\n",
      "28 Learning 0.17647058823529413\n",
      "29 JavaのGUIウィジェットツールキットであるSwingやJython、C++で書かれており、プラグ 0.17647058823529413\n",
      "30 Courses 0.17647058823529413\n",
      "31 Deep 0.17647058823529413\n",
      "32 Distilling 0.17647058823529413\n",
      "33 IIo 0.17647058823529413\n",
      "34 I 0.17647058823529413\n",
      "35 it 0.17647058823529413\n",
      "36 python 0.17647058823529413\n",
      "37 this 0.17647058823529413\n",
      "38 amp 0.17647058823529413\n",
      "39 2019 0.17647058823529413\n",
      "40 - 0.17647058823529413\n",
      "41 Haskell 0.17647058823529413\n",
      "42 ” 0.17647058823529413\n",
      "43 | 0.17647058823529413\n",
      "44 ) 0.17647058823529413\n",
      "45 San 0.17647058823529413\n",
      "46 complex 0.17647058823529413\n",
      "47 Updated 0.17647058823529413\n",
      "48 customer 0.17647058823529413\n",
      "49 Staff 0.17647058823529413\n"
     ]
    }
   ],
   "source": [
    "for i, feature_index in enumerate(top_features):\n",
    "    print(i, dv.feature_names_[feature_index], np.exp(feature_probabilities[1][feature_index]))"
   ]
  },
  {
   "cell_type": "code",
   "execution_count": null,
   "metadata": {
    "collapsed": true
   },
   "outputs": [],
   "source": []
  }
 ],
 "metadata": {
  "anaconda-cloud": {},
  "kernelspec": {
   "display_name": "Python [default]",
   "language": "python",
   "name": "python3"
  },
  "language_info": {
   "codemirror_mode": {
    "name": "ipython",
    "version": 3
   },
   "file_extension": ".py",
   "mimetype": "text/x-python",
   "name": "python",
   "nbconvert_exporter": "python",
   "pygments_lexer": "ipython3",
   "version": "3.5.2"
  }
 },
 "nbformat": 4,
 "nbformat_minor": 1
}
